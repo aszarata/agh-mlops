{
 "cells": [
  {
   "metadata": {},
   "cell_type": "markdown",
   "source": "# Laboratorium 2",
   "id": "78b0062eb8dc662c"
  },
  {
   "metadata": {},
   "cell_type": "markdown",
   "source": "## Sekcje 1-5",
   "id": "75cab9dd4b67057c"
  },
  {
   "metadata": {
    "ExecuteTime": {
     "end_time": "2025-10-20T17:26:14.977135Z",
     "start_time": "2025-10-20T17:26:14.803294Z"
    }
   },
   "cell_type": "code",
   "source": [
    "import duckdb\n",
    "db = duckdb.connect(\"data-hw/duckdb_trains.db\")"
   ],
   "id": "2143e22b26cdea68",
   "outputs": [],
   "execution_count": 1
  },
  {
   "metadata": {
    "ExecuteTime": {
     "end_time": "2025-10-20T17:26:15.004243Z",
     "start_time": "2025-10-20T17:26:14.985680Z"
    }
   },
   "cell_type": "code",
   "source": [
    "db.sql(\n",
    "\"\"\"\n",
    "CREATE TABLE IF NOT EXISTS stations AS\n",
    "FROM \"data-hw/stations-2023-09.csv\"\n",
    "\"\"\"\n",
    ")"
   ],
   "id": "8a2687116d610613",
   "outputs": [],
   "execution_count": 2
  },
  {
   "metadata": {
    "ExecuteTime": {
     "end_time": "2025-10-20T17:26:15.166696Z",
     "start_time": "2025-10-20T17:26:15.053751Z"
    }
   },
   "cell_type": "code",
   "source": [
    "db.sql(\n",
    "\"\"\"\n",
    "CREATE TABLE IF NOT EXISTS distances AS\n",
    "FROM read_csv('data-hw/tariff-distances-2022-01.csv', nullstr = 'XXX');\n",
    "\"\"\"\n",
    ")\n",
    "\n",
    "db.sql(\n",
    "    \"\"\"\n",
    "    CREATE TABLE IF NOT EXISTS distances_long AS\n",
    "    UNPIVOT distances\n",
    "    ON COLUMNS (* EXCLUDE station)\n",
    "    INTO NAME other_station VALUE distance;\n",
    "    \"\"\"\n",
    ")"
   ],
   "id": "9b99d37039384f01",
   "outputs": [],
   "execution_count": 3
  },
  {
   "metadata": {
    "ExecuteTime": {
     "end_time": "2025-10-20T17:26:15.202660Z",
     "start_time": "2025-10-20T17:26:15.184345Z"
    }
   },
   "cell_type": "code",
   "source": [
    "db.sql(\"\"\"\n",
    "FROM (DESCRIBE distances)\n",
    "LIMIT 5;\n",
    "\"\"\")"
   ],
   "id": "b0466cf0bb73b1f7",
   "outputs": [
    {
     "data": {
      "text/plain": [
       "┌─────────────┬─────────────┬─────────┬─────────┬─────────┬─────────┐\n",
       "│ column_name │ column_type │  null   │   key   │ default │  extra  │\n",
       "│   varchar   │   varchar   │ varchar │ varchar │ varchar │ varchar │\n",
       "├─────────────┼─────────────┼─────────┼─────────┼─────────┼─────────┤\n",
       "│ Station     │ VARCHAR     │ YES     │ NULL    │ NULL    │ NULL    │\n",
       "│ AC          │ BIGINT      │ YES     │ NULL    │ NULL    │ NULL    │\n",
       "│ AH          │ BIGINT      │ YES     │ NULL    │ NULL    │ NULL    │\n",
       "│ AHP         │ BIGINT      │ YES     │ NULL    │ NULL    │ NULL    │\n",
       "│ AHPR        │ BIGINT      │ YES     │ NULL    │ NULL    │ NULL    │\n",
       "└─────────────┴─────────────┴─────────┴─────────┴─────────┴─────────┘"
      ]
     },
     "execution_count": 4,
     "metadata": {},
     "output_type": "execute_result"
    }
   ],
   "execution_count": 4
  },
  {
   "metadata": {
    "ExecuteTime": {
     "end_time": "2025-10-20T17:26:15.251478Z",
     "start_time": "2025-10-20T17:26:15.240748Z"
    }
   },
   "cell_type": "code",
   "source": [
    "db.sql(\"\"\"\n",
    "FROM (DESCRIBE distances_long)\n",
    "LIMIT 5;\n",
    "\"\"\")"
   ],
   "id": "8c02f24811d77ac3",
   "outputs": [
    {
     "data": {
      "text/plain": [
       "┌───────────────┬─────────────┬─────────┬─────────┬─────────┬─────────┐\n",
       "│  column_name  │ column_type │  null   │   key   │ default │  extra  │\n",
       "│    varchar    │   varchar   │ varchar │ varchar │ varchar │ varchar │\n",
       "├───────────────┼─────────────┼─────────┼─────────┼─────────┼─────────┤\n",
       "│ Station       │ VARCHAR     │ YES     │ NULL    │ NULL    │ NULL    │\n",
       "│ other_station │ VARCHAR     │ YES     │ NULL    │ NULL    │ NULL    │\n",
       "│ distance      │ BIGINT      │ YES     │ NULL    │ NULL    │ NULL    │\n",
       "└───────────────┴─────────────┴─────────┴─────────┴─────────┴─────────┘"
      ]
     },
     "execution_count": 5,
     "metadata": {},
     "output_type": "execute_result"
    }
   ],
   "execution_count": 5
  },
  {
   "metadata": {
    "ExecuteTime": {
     "end_time": "2025-10-20T17:26:15.780987Z",
     "start_time": "2025-10-20T17:26:15.300053Z"
    }
   },
   "cell_type": "code",
   "source": [
    "db.sql(f\"\"\"ATTACH IF NOT EXISTS 'host=localhost user=postgres password=postgres dbname=postgres' AS postgres_db (TYPE postgres);\"\"\")\n",
    "db.sql(\n",
    "f\"\"\"\n",
    "CREATE TABLE IF NOT EXISTS postgres_db.disruptions AS\n",
    "FROM read_csv({[f\"data-hw/disruptions-{y}.csv\" for y in range(2011, 2024)]})\n",
    "\"\"\"\n",
    ")\n",
    "db.sql(\"DESCRIBE postgres_db.disruptions\")"
   ],
   "id": "8a26034c4ed12759",
   "outputs": [
    {
     "data": {
      "text/plain": [
       "┌──────────────────────┬─────────────┬─────────┬─────────┬─────────┬─────────┐\n",
       "│     column_name      │ column_type │  null   │   key   │ default │  extra  │\n",
       "│       varchar        │   varchar   │ varchar │ varchar │ varchar │ varchar │\n",
       "├──────────────────────┼─────────────┼─────────┼─────────┼─────────┼─────────┤\n",
       "│ rdt_id               │ BIGINT      │ YES     │ NULL    │ NULL    │ NULL    │\n",
       "│ ns_lines             │ VARCHAR     │ YES     │ NULL    │ NULL    │ NULL    │\n",
       "│ rdt_lines            │ VARCHAR     │ YES     │ NULL    │ NULL    │ NULL    │\n",
       "│ rdt_lines_id         │ VARCHAR     │ YES     │ NULL    │ NULL    │ NULL    │\n",
       "│ rdt_station_names    │ VARCHAR     │ YES     │ NULL    │ NULL    │ NULL    │\n",
       "│ rdt_station_codes    │ VARCHAR     │ YES     │ NULL    │ NULL    │ NULL    │\n",
       "│ cause_nl             │ VARCHAR     │ YES     │ NULL    │ NULL    │ NULL    │\n",
       "│ cause_en             │ VARCHAR     │ YES     │ NULL    │ NULL    │ NULL    │\n",
       "│ statistical_cause_nl │ VARCHAR     │ YES     │ NULL    │ NULL    │ NULL    │\n",
       "│ statistical_cause_en │ VARCHAR     │ YES     │ NULL    │ NULL    │ NULL    │\n",
       "│ cause_group          │ VARCHAR     │ YES     │ NULL    │ NULL    │ NULL    │\n",
       "│ start_time           │ TIMESTAMP   │ YES     │ NULL    │ NULL    │ NULL    │\n",
       "│ end_time             │ TIMESTAMP   │ YES     │ NULL    │ NULL    │ NULL    │\n",
       "│ duration_minutes     │ BIGINT      │ YES     │ NULL    │ NULL    │ NULL    │\n",
       "├──────────────────────┴─────────────┴─────────┴─────────┴─────────┴─────────┤\n",
       "│ 14 rows                                                          6 columns │\n",
       "└────────────────────────────────────────────────────────────────────────────┘"
      ]
     },
     "execution_count": 6,
     "metadata": {},
     "output_type": "execute_result"
    }
   ],
   "execution_count": 6
  },
  {
   "metadata": {
    "ExecuteTime": {
     "end_time": "2025-10-20T17:27:06.138392Z",
     "start_time": "2025-10-20T17:26:15.843817Z"
    }
   },
   "cell_type": "code",
   "source": [
    "duckdb.sql(\n",
    "f\"\"\"\n",
    "COPY (SELECT * FROM read_csv({[f\"data-hw/services-{year}.csv\" for year in range(2019, 2023)]}))\n",
    "TO \"data-hw/services_duckdb.parquet\" (FORMAT \"PARQUET\", COMPRESSION \"ZSTD\")\n",
    "\"\"\"\n",
    ")"
   ],
   "id": "9de8d8baae155cab",
   "outputs": [
    {
     "data": {
      "text/plain": [
       "FloatProgress(value=0.0, layout=Layout(width='auto'), style=ProgressStyle(bar_color='black'))"
      ],
      "application/vnd.jupyter.widget-view+json": {
       "version_major": 2,
       "version_minor": 0,
       "model_id": "d2d5d6d0c117420b8e14d63290df8cad"
      }
     },
     "metadata": {},
     "output_type": "display_data",
     "jetTransient": {
      "display_id": null
     }
    }
   ],
   "execution_count": 7
  },
  {
   "metadata": {
    "ExecuteTime": {
     "end_time": "2025-10-20T17:27:06.308797Z",
     "start_time": "2025-10-20T17:27:06.249783Z"
    }
   },
   "cell_type": "code",
   "source": [
    "db.sql(\"\"\"\n",
    "CREATE TABLE IF NOT EXISTS services AS\n",
    "FROM \"data-hw/services_duckdb.parquet\"\n",
    "\"\"\")"
   ],
   "id": "2f823294b0f8f39d",
   "outputs": [],
   "execution_count": 8
  },
  {
   "metadata": {},
   "cell_type": "markdown",
   "source": "## Sekcja 7",
   "id": "59254ed044b99d8e"
  },
  {
   "metadata": {},
   "cell_type": "markdown",
   "source": "How many trains departed from Amsterdam Central station overall?",
   "id": "32c47e97c758c7d1"
  },
  {
   "metadata": {
    "ExecuteTime": {
     "end_time": "2025-10-20T17:27:06.963099Z",
     "start_time": "2025-10-20T17:27:06.319345Z"
    }
   },
   "cell_type": "code",
   "source": [
    "db.sql(\n",
    "\"\"\"\n",
    "SELECT COUNT(*) as num_departures\n",
    "FROM services\n",
    "WHERE  \"Stop:Station name\" = 'Amsterdam Centraal' AND \"Stop:Departure time\" IS NOT NULL\n",
    "\"\"\"\n",
    ")"
   ],
   "id": "9c7c2d2609167540",
   "outputs": [
    {
     "data": {
      "text/plain": [
       "┌────────────────┐\n",
       "│ num_departures │\n",
       "│     int64      │\n",
       "├────────────────┤\n",
       "│        1136365 │\n",
       "└────────────────┘"
      ]
     },
     "execution_count": 9,
     "metadata": {},
     "output_type": "execute_result"
    }
   ],
   "execution_count": 9
  },
  {
   "metadata": {},
   "cell_type": "markdown",
   "source": "Calculate the average arrival delay of different service types (Service:Type). Order results descending by average delay.",
   "id": "7e314d2aacc7f15b"
  },
  {
   "metadata": {
    "ExecuteTime": {
     "end_time": "2025-10-20T17:27:07.304502Z",
     "start_time": "2025-10-20T17:27:06.973737Z"
    }
   },
   "cell_type": "code",
   "source": [
    "db.sql(\n",
    "\"\"\"\n",
    "SELECT\n",
    "    \"Service:Type\",\n",
    "    ROUND(AVG(COALESCE(\"Stop:Arrival delay\", 0)), 2) AS average_arrival_delay\n",
    "FROM services\n",
    "GROUP BY \"Service:Type\"\n",
    "ORDER BY average_arrival_delay DESC\n",
    "\"\"\"\n",
    ")"
   ],
   "id": "9319393d9b40b59c",
   "outputs": [
    {
     "data": {
      "text/plain": [
       "┌──────────────────────┬───────────────────────┐\n",
       "│     Service:Type     │ average_arrival_delay │\n",
       "│       varchar        │        double         │\n",
       "├──────────────────────┼───────────────────────┤\n",
       "│ Alpen Express        │                 21.96 │\n",
       "│ Nachttrein           │                 15.48 │\n",
       "│ Krokus Express       │                 11.38 │\n",
       "│ Nightjet             │                  8.01 │\n",
       "│ Thalys               │                  4.22 │\n",
       "│ Int. Trein           │                  3.92 │\n",
       "│ ICE International    │                   3.9 │\n",
       "│ Eurostar             │                  3.27 │\n",
       "│ Stoomtrein           │                  1.58 │\n",
       "│ RE 19                │                  1.47 │\n",
       "│   ·                  │                    ·  │\n",
       "│   ·                  │                    ·  │\n",
       "│   ·                  │                    ·  │\n",
       "│ Speciale Trein       │                  0.29 │\n",
       "│ Metro                │                   0.0 │\n",
       "│ Metro i.p.v. trein   │                   0.0 │\n",
       "│ stoptrein            │                   0.0 │\n",
       "│ Stopbus i.p.v. trein │                   0.0 │\n",
       "│ Belbus               │                   0.0 │\n",
       "│ Bus                  │                   0.0 │\n",
       "│ Tram i.p.v. trein    │                   0.0 │\n",
       "│ Niet instappen       │                   0.0 │\n",
       "│ Snelbus i.p.v. trein │                   0.0 │\n",
       "├──────────────────────┴───────────────────────┤\n",
       "│ 29 rows (20 shown)                 2 columns │\n",
       "└──────────────────────────────────────────────┘"
      ]
     },
     "execution_count": 10,
     "metadata": {},
     "output_type": "execute_result"
    }
   ],
   "execution_count": 10
  },
  {
   "metadata": {},
   "cell_type": "markdown",
   "source": "What was the most common disruption cause in different years? MODE function may be useful.",
   "id": "f30492a59077f8b3"
  },
  {
   "metadata": {
    "ExecuteTime": {
     "end_time": "2025-10-20T17:27:07.354648Z",
     "start_time": "2025-10-20T17:27:07.315580Z"
    }
   },
   "cell_type": "code",
   "source": [
    "db.sql(\n",
    "\"\"\"\n",
    "SELECT\n",
    "    MODE(\"cause_en\"),\n",
    "    EXTRACT(YEAR FROM \"start_time\") AS year,\n",
    "FROM postgres_db.disruptions\n",
    "GROUP BY year\n",
    "ORDER BY year\n",
    "\"\"\"\n",
    ")"
   ],
   "id": "624e6ed71dbf5cf9",
   "outputs": [
    {
     "data": {
      "text/plain": [
       "┌───────────────────┬───────┐\n",
       "│ \"mode\"(cause_en)  │ year  │\n",
       "│      varchar      │ int64 │\n",
       "├───────────────────┼───────┤\n",
       "│ broken down train │  2011 │\n",
       "│ points failure    │  2012 │\n",
       "│ points failure    │  2013 │\n",
       "│ broken down train │  2014 │\n",
       "│ broken down train │  2015 │\n",
       "│ broken down train │  2016 │\n",
       "│ broken down train │  2017 │\n",
       "│ broken down train │  2018 │\n",
       "│ broken down train │  2019 │\n",
       "│ broken down train │  2020 │\n",
       "│ broken down train │  2021 │\n",
       "│ broken down train │  2022 │\n",
       "│ broken down train │  2023 │\n",
       "├───────────────────┴───────┤\n",
       "│ 13 rows         2 columns │\n",
       "└───────────────────────────┘"
      ]
     },
     "execution_count": 11,
     "metadata": {},
     "output_type": "execute_result"
    }
   ],
   "execution_count": 11
  },
  {
   "metadata": {},
   "cell_type": "markdown",
   "source": "How many trains started their overall service in any Amsterdam station?",
   "id": "c2fdd8ff9cbed0a7"
  },
  {
   "metadata": {
    "ExecuteTime": {
     "end_time": "2025-10-20T17:27:07.799200Z",
     "start_time": "2025-10-20T17:27:07.369516Z"
    }
   },
   "cell_type": "code",
   "source": [
    "db.sql(\n",
    "\"\"\"\n",
    "SELECT COUNT(*) as num_trains\n",
    "FROM services\n",
    "WHERE\n",
    "    \"Stop:Arrival time\" IS NULL\n",
    "    AND \"Stop:Station name\" LIKE '%Amsterdam%'\n",
    "\"\"\"\n",
    ")"
   ],
   "id": "b727277d5b72ba05",
   "outputs": [
    {
     "data": {
      "text/plain": [
       "┌────────────┐\n",
       "│ num_trains │\n",
       "│   int64    │\n",
       "├────────────┤\n",
       "│     776834 │\n",
       "└────────────┘"
      ]
     },
     "execution_count": 12,
     "metadata": {},
     "output_type": "execute_result"
    }
   ],
   "execution_count": 12
  },
  {
   "metadata": {},
   "cell_type": "markdown",
   "source": "What fraction of services was run to final destinations outside the Netherlands?",
   "id": "6dbf568d9de506ee"
  },
  {
   "metadata": {
    "ExecuteTime": {
     "end_time": "2025-10-20T17:27:08.391923Z",
     "start_time": "2025-10-20T17:27:07.810478Z"
    }
   },
   "cell_type": "code",
   "source": [
    "db.sql(\n",
    "\"\"\"\n",
    "SELECT\n",
    "    COUNT(*) /\n",
    "    (SELECT COUNT(*) FROM services WHERE \"Stop:Departure time\" IS NULL)\n",
    "    AS num_of_outside_netherlands_services\n",
    "FROM services\n",
    "JOIN stations ON services.\"Stop:Station code\" = stations.code\n",
    "WHERE services.\"Stop:Departure time\" IS NULL AND stations.country != 'NL'\n",
    "\"\"\"\n",
    ")"
   ],
   "id": "e1efccefb1c61903",
   "outputs": [
    {
     "data": {
      "text/plain": [
       "┌─────────────────────────────────────┐\n",
       "│ num_of_outside_netherlands_services │\n",
       "│               double                │\n",
       "├─────────────────────────────────────┤\n",
       "│                0.033784204482949234 │\n",
       "└─────────────────────────────────────┘"
      ]
     },
     "execution_count": 13,
     "metadata": {},
     "output_type": "execute_result"
    }
   ],
   "execution_count": 13
  },
  {
   "metadata": {},
   "cell_type": "markdown",
   "source": "What is the largest distance between stations in the Netherlands (code NL)?",
   "id": "1f0604a126362105"
  },
  {
   "metadata": {
    "ExecuteTime": {
     "end_time": "2025-10-20T17:27:08.448036Z",
     "start_time": "2025-10-20T17:27:08.403397Z"
    }
   },
   "cell_type": "code",
   "source": [
    "db.sql(\n",
    "\"\"\"\n",
    "SELECT\n",
    "    s1.name_long AS station1,\n",
    "    s2.name_long AS station2,\n",
    "    dl.distance\n",
    "FROM distances_long AS dl, stations AS s1, stations AS s2\n",
    "WHERE dl.station = s1.code\n",
    "  AND dl.other_station = s2.code\n",
    "  AND s1.country = 'NL'\n",
    "  AND s2.country = 'NL'\n",
    "ORDER BY dl.distance DESC\n",
    "LIMIT 1;\n",
    "\"\"\"\n",
    ")"
   ],
   "id": "163ad56910de3468",
   "outputs": [
    {
     "data": {
      "text/plain": [
       "┌────────────┬───────────┬──────────┐\n",
       "│  station1  │ station2  │ distance │\n",
       "│  varchar   │  varchar  │  int64   │\n",
       "├────────────┼───────────┼──────────┤\n",
       "│ Vlissingen │ Eemshaven │      426 │\n",
       "└────────────┴───────────┴──────────┘"
      ]
     },
     "execution_count": 14,
     "metadata": {},
     "output_type": "execute_result"
    }
   ],
   "execution_count": 14
  },
  {
   "metadata": {},
   "cell_type": "markdown",
   "source": "Compare the average arrival delay between different train operators (Service:Company) on a bar plot. Sort them appropriately.",
   "id": "c27dfbce41a58ebb"
  },
  {
   "metadata": {
    "ExecuteTime": {
     "end_time": "2025-10-20T17:27:08.797002Z",
     "start_time": "2025-10-20T17:27:08.463746Z"
    }
   },
   "cell_type": "code",
   "source": [
    "delays = db.sql(\n",
    "    \"\"\"\n",
    "SELECT\n",
    "    \"Service:Company\" AS company,\n",
    "    AVG(COALESCE(\"Stop:Arrival delay\", 0)) AS avg_arrival_delay\n",
    "FROM services\n",
    "WHERE company IS NOT NULL AND company != '.'\n",
    "GROUP BY \"Service:Company\"\n",
    "ORDER BY avg_arrival_delay DESC\n",
    "LIMIT 10\n",
    "\"\"\"\n",
    ")\n",
    "delays"
   ],
   "id": "bbc9a7c768a8c0d",
   "outputs": [
    {
     "data": {
      "text/plain": [
       "┌────────────┬────────────────────┐\n",
       "│  company   │ avg_arrival_delay  │\n",
       "│  varchar   │       double       │\n",
       "├────────────┼────────────────────┤\n",
       "│ Railexpert │ 10.493312352478364 │\n",
       "│ TCS        │  9.595505617977528 │\n",
       "│ Rail2U     │  5.412532637075718 │\n",
       "│ NS Int     │ 3.6795119450904834 │\n",
       "│ VIAS       │  2.042421466717918 │\n",
       "│ ABRN       │ 1.2747112602274995 │\n",
       "│ ZLSM       │ 1.1578947368421053 │\n",
       "│ Eurobahn   │ 0.9948687696279379 │\n",
       "│ NMBS       │ 0.7647644070915369 │\n",
       "│ Railpromo  │ 0.7194860813704497 │\n",
       "├────────────┴────────────────────┤\n",
       "│ 10 rows               2 columns │\n",
       "└─────────────────────────────────┘"
      ]
     },
     "execution_count": 15,
     "metadata": {},
     "output_type": "execute_result"
    }
   ],
   "execution_count": 15
  },
  {
   "metadata": {
    "ExecuteTime": {
     "end_time": "2025-10-20T17:27:12.898595Z",
     "start_time": "2025-10-20T17:27:08.809209Z"
    }
   },
   "cell_type": "code",
   "source": [
    "df = delays.df()\n",
    "\n",
    "df.head(10).plot.barh(\n",
    "    x=\"company\",\n",
    "    y=\"avg_arrival_delay\",\n",
    "    xlabel=\"delay\",\n",
    "    title=\"Average arrival delay per company\",\n",
    ");"
   ],
   "id": "dcf63b1ef0a4945a",
   "outputs": [
    {
     "data": {
      "text/plain": [
       "<Figure size 640x480 with 1 Axes>"
      ],
      "image/png": "[encoded data removed]"
     },
     "metadata": {},
     "output_type": "display_data",
     "jetTransient": {
      "display_id": null
     }
    }
   ],
   "execution_count": 16
  },
  {
   "metadata": {},
   "cell_type": "markdown",
   "source": "How many services were disrupted in different years? Make a line plot.",
   "id": "668f45d0ba34794e"
  },
  {
   "metadata": {
    "ExecuteTime": {
     "end_time": "2025-10-20T17:27:13.024485Z",
     "start_time": "2025-10-20T17:27:12.960653Z"
    }
   },
   "cell_type": "code",
   "source": [
    "disruptions = db.sql(\n",
    "\"\"\"\n",
    "SELECT\n",
    "    EXTRACT(YEAR FROM \"start_time\") AS year,\n",
    "    COUNT(*) as num_disruptions\n",
    "FROM postgres_db.public.disruptions\n",
    "GROUP BY year\n",
    "ORDER BY year\n",
    "\"\"\"\n",
    ")\n",
    "disruptions"
   ],
   "id": "479a9f1831ac9c60",
   "outputs": [
    {
     "data": {
      "text/plain": [
       "┌───────┬─────────────────┐\n",
       "│ year  │ num_disruptions │\n",
       "│ int64 │      int64      │\n",
       "├───────┼─────────────────┤\n",
       "│  2011 │            1846 │\n",
       "│  2012 │            2074 │\n",
       "│  2013 │            2312 │\n",
       "│  2014 │            2484 │\n",
       "│  2015 │            2947 │\n",
       "│  2016 │            3031 │\n",
       "│  2017 │            4085 │\n",
       "│  2018 │            5190 │\n",
       "│  2019 │            5940 │\n",
       "│  2020 │            4450 │\n",
       "│  2021 │            4874 │\n",
       "│  2022 │            5499 │\n",
       "│  2023 │            5168 │\n",
       "├───────┴─────────────────┤\n",
       "│ 13 rows       2 columns │\n",
       "└─────────────────────────┘"
      ]
     },
     "execution_count": 17,
     "metadata": {},
     "output_type": "execute_result"
    }
   ],
   "execution_count": 17
  },
  {
   "metadata": {
    "ExecuteTime": {
     "end_time": "2025-10-20T17:27:13.233467Z",
     "start_time": "2025-10-20T17:27:13.034082Z"
    }
   },
   "cell_type": "code",
   "source": [
    "disruptions_df = disruptions.df()\n",
    "disruptions_df.plot.line(\n",
    "    x=\"year\",\n",
    "    y=\"num_disruptions\",\n",
    "    xlabel=\"year\",\n",
    "    ylabel=\"num_disruptions\",\n",
    "    title=\"Disruptions per year\",\n",
    ");"
   ],
   "id": "1c2bea0782c9a313",
   "outputs": [
    {
     "data": {
      "text/plain": [
       "<Figure size 640x480 with 1 Axes>"
      ],
      "image/png": "[encoded data removed]"
     },
     "metadata": {},
     "output_type": "display_data",
     "jetTransient": {
      "display_id": null
     }
    }
   ],
   "execution_count": 18
  },
  {
   "metadata": {},
   "cell_type": "markdown",
   "source": "What fraction of all services were cancelled (Service:Completely cancelled) in different years? Make a line plot.",
   "id": "b7e11c6aac39abc"
  },
  {
   "metadata": {
    "ExecuteTime": {
     "end_time": "2025-10-20T17:27:13.407690Z",
     "start_time": "2025-10-20T17:27:13.244018Z"
    }
   },
   "cell_type": "code",
   "source": [
    "cancelled = db.sql(\n",
    "    \"\"\"\n",
    "    SELECT\n",
    "        year,\n",
    "        cancellation_rate\n",
    "    FROM (\n",
    "        SELECT\n",
    "            EXTRACT(YEAR FROM \"Service:Date\") AS year,\n",
    "            COUNT(*) FILTER (WHERE \"Service:Completely cancelled\" = true) as num_cancelled,\n",
    "            COUNT(*) AS num_total,\n",
    "            ROUND(num_cancelled / num_total, 3) AS cancellation_rate\n",
    "        FROM services\n",
    "        GROUP BY EXTRACT(YEAR FROM \"Service:Date\")\n",
    "    ) AS subquery\n",
    "    ORDER BY year\n",
    "    \"\"\"\n",
    ")\n",
    "cancelled"
   ],
   "id": "3e6e4590bb3dd29a",
   "outputs": [
    {
     "data": {
      "text/plain": [
       "┌───────┬───────────────────┐\n",
       "│ year  │ cancellation_rate │\n",
       "│ int64 │      double       │\n",
       "├───────┼───────────────────┤\n",
       "│  2019 │             0.011 │\n",
       "│  2020 │             0.058 │\n",
       "│  2021 │             0.025 │\n",
       "│  2022 │             0.043 │\n",
       "└───────┴───────────────────┘"
      ]
     },
     "execution_count": 19,
     "metadata": {},
     "output_type": "execute_result"
    }
   ],
   "execution_count": 19
  },
  {
   "metadata": {
    "ExecuteTime": {
     "end_time": "2025-10-20T17:27:13.722964Z",
     "start_time": "2025-10-20T17:27:13.417231Z"
    }
   },
   "cell_type": "code",
   "source": [
    "cancelled_df = cancelled.df()\n",
    "\n",
    "cancelled_df.plot.line(\n",
    "    x=\"year\",\n",
    "    y=\"cancellation_rate\",\n",
    "    xlabel=\"year\",\n",
    "    ylabel=\"cancellation_rate\",\n",
    "    title=\"Cancellation rate per year\",\n",
    ");"
   ],
   "id": "e87dadf26e30a61a",
   "outputs": [
    {
     "data": {
      "text/plain": [
       "<Figure size 640x480 with 1 Axes>"
      ],
      "image/png": "[encoded data removed]"
     },
     "metadata": {},
     "output_type": "display_data",
     "jetTransient": {
      "display_id": null
     }
    }
   ],
   "execution_count": 20
  },
  {
   "metadata": {},
   "cell_type": "markdown",
   "source": "## Section 8",
   "id": "f85da163e05567a6"
  },
  {
   "metadata": {},
   "cell_type": "markdown",
   "source": "Create table station_connections, with columns Service:RDT-ID, start_station_code and end_station_code (pair of stations on a route), and distance between them. Note that you should deduplicate the data on station codes, so that every station pair appears only once. Create temporary tables, use a subquery, or any other similar techniques if necessary.",
   "id": "55229753fcbc656c"
  },
  {
   "metadata": {
    "ExecuteTime": {
     "end_time": "2025-10-20T17:27:13.752239Z",
     "start_time": "2025-10-20T17:27:13.733280Z"
    }
   },
   "cell_type": "code",
   "source": [
    "db.sql(\n",
    "    \"\"\"\n",
    "    SELECT\n",
    "        s1.name_long AS station1,\n",
    "        s2.name_long AS station2,\n",
    "        dl.distance\n",
    "    FROM distances_long AS dl, stations AS s1, stations AS s2\n",
    "    WHERE dl.station = s1.code\n",
    "      AND dl.other_station = s2.code\n",
    "    ORDER BY dl.distance DESC\n",
    "    LIMIT 1;\n",
    "    \"\"\"\n",
    ")"
   ],
   "id": "baa2c1565c351e04",
   "outputs": [
    {
     "data": {
      "text/plain": [
       "┌────────────┬──────────────────┬──────────┐\n",
       "│  station1  │     station2     │ distance │\n",
       "│  varchar   │     varchar      │  int64   │\n",
       "├────────────┼──────────────────┼──────────┤\n",
       "│ Vlissingen │ Leer (Ostfriesl) │      450 │\n",
       "└────────────┴──────────────────┴──────────┘"
      ]
     },
     "execution_count": 21,
     "metadata": {},
     "output_type": "execute_result"
    }
   ],
   "execution_count": 21
  },
  {
   "metadata": {
    "ExecuteTime": {
     "end_time": "2025-10-20T17:34:46.387020Z",
     "start_time": "2025-10-20T17:34:29.530377Z"
    }
   },
   "cell_type": "code",
   "source": [
    "db.sql(\n",
    "    \"\"\"\n",
    "CREATE TABLE IF NOT EXISTS station_connections AS (\n",
    "    SELECT\n",
    "        routes.\"Service:RDT-ID\",\n",
    "        routes.start_station_code,\n",
    "        routes.end_station_code,\n",
    "        (\n",
    "            SELECT distance\n",
    "            FROM distances_long\n",
    "            WHERE station = routes.start_station_code\n",
    "            AND other_station = routes.end_station_code\n",
    "        ) as distance\n",
    "    FROM (\n",
    "        SELECT\n",
    "            \"Service:RDT-ID\",\n",
    "            \"Stop:Station code\" as start_station_code,\n",
    "            LEAD(\"Stop:Station code\", 1) OVER (\n",
    "                PARTITION BY \"Service:RDT-ID\"\n",
    "                ORDER BY \"Stop:Departure time\"\n",
    "            ) AS end_station_code\n",
    "        FROM services\n",
    "    ) routes\n",
    "    WHERE routes.end_station_code IS NOT NULL\n",
    ")\n",
    "    \"\"\"\n",
    ")"
   ],
   "id": "755d6d87f1e3d5cc",
   "outputs": [
    {
     "data": {
      "text/plain": [
       "FloatProgress(value=0.0, layout=Layout(width='auto'), style=ProgressStyle(bar_color='black'))"
      ],
      "application/vnd.jupyter.widget-view+json": {
       "version_major": 2,
       "version_minor": 0,
       "model_id": "c25741a30c2d4bedba399b6364a95232"
      }
     },
     "metadata": {},
     "output_type": "display_data",
     "jetTransient": {
      "display_id": null
     }
    }
   ],
   "execution_count": 31
  },
  {
   "metadata": {},
   "cell_type": "markdown",
   "source": "What is the largest distance between a pair of stations?",
   "id": "ca0acc6b74d5b18e"
  },
  {
   "metadata": {
    "ExecuteTime": {
     "end_time": "2025-10-20T17:35:03.229643Z",
     "start_time": "2025-10-20T17:35:03.207533Z"
    }
   },
   "cell_type": "code",
   "source": [
    "db.sql(\n",
    "\"\"\"\n",
    "SELECT distance\n",
    "FROM station_connections\n",
    "ORDER BY distance DESC\n",
    "LIMIT 1\n",
    "\"\"\"\n",
    ")"
   ],
   "id": "680839e543c51b6",
   "outputs": [
    {
     "data": {
      "text/plain": [
       "┌──────────┐\n",
       "│ distance │\n",
       "│  int64   │\n",
       "├──────────┤\n",
       "│      421 │\n",
       "└──────────┘"
      ]
     },
     "execution_count": 33,
     "metadata": {},
     "output_type": "execute_result"
    }
   ],
   "execution_count": 33
  },
  {
   "metadata": {},
   "cell_type": "markdown",
   "source": "Plot a histogram of inter-station distances run by trains.",
   "id": "fa4deae9cc63f41a"
  },
  {
   "metadata": {
    "ExecuteTime": {
     "end_time": "2025-10-20T17:39:28.291182Z",
     "start_time": "2025-10-20T17:39:24.289931Z"
    }
   },
   "cell_type": "code",
   "source": [
    "distances_df = db.sql(\n",
    "    \"\"\"SELECT distance FROM station_connections\"\"\"\n",
    ").df()\n",
    "distances_df.plot.hist(\n",
    "    bins=30,\n",
    "    xlabel=\"distances\",\n",
    "    logy=True,\n",
    "    title=\"Distances histogram\",\n",
    ");"
   ],
   "id": "afa1dcea0cf3349a",
   "outputs": [
    {
     "data": {
      "text/plain": [
       "<Figure size 640x480 with 1 Axes>"
      ],
      "image/png": "[encoded data removed]"
     },
     "metadata": {},
     "output_type": "display_data",
     "jetTransient": {
      "display_id": null
     }
    }
   ],
   "execution_count": 40
  }
 ],
 "metadata": {
  "kernelspec": {
   "display_name": "Python 3",
   "language": "python",
   "name": "python3"
  },
  "language_info": {
   "codemirror_mode": {
    "name": "ipython",
    "version": 2
   },
   "file_extension": ".py",
   "mimetype": "text/x-python",
   "name": "python",
   "nbconvert_exporter": "python",
   "pygments_lexer": "ipython2",
   "version": "2.7.6"
  }
 },
 "nbformat": 4,
 "nbformat_minor": 5
}
