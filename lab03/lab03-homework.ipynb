{
 "cells": [
  {
   "metadata": {
    "ExecuteTime": {
     "end_time": "2025-10-28T20:24:34.137247Z",
     "start_time": "2025-10-28T20:24:34.040101Z"
    }
   },
   "cell_type": "code",
   "source": [
    "import polars as pl\n",
    "from datetime import date"
   ],
   "id": "f01439f579b0e185",
   "outputs": [],
   "execution_count": 1
  },
  {
   "metadata": {},
   "cell_type": "markdown",
   "source": "# 1. Data Reading",
   "id": "1ef928215136a56e"
  },
  {
   "metadata": {
    "ExecuteTime": {
     "end_time": "2025-10-28T20:24:34.152028Z",
     "start_time": "2025-10-28T20:24:34.149964Z"
    }
   },
   "cell_type": "code",
   "source": "DATA_DIR = 'data'",
   "id": "9ac155c41c18d0da",
   "outputs": [],
   "execution_count": 2
  },
  {
   "metadata": {},
   "cell_type": "markdown",
   "source": "load all 2024 months of taxi rides",
   "id": "235cee7a816063dc"
  },
  {
   "metadata": {},
   "cell_type": "markdown",
   "source": "`Note: Unfortunately, my old computer didn't allow me to run the notebook on full data, therefore i decided to reduce it only to months 1-9`",
   "id": "8f2c6d6d1a68d490"
  },
  {
   "metadata": {
    "ExecuteTime": {
     "end_time": "2025-10-28T20:24:35.062018Z",
     "start_time": "2025-10-28T20:24:34.209076Z"
    }
   },
   "cell_type": "code",
   "source": [
    "df = pl.scan_parquet(\"data/[1-9].parquet\")\n",
    "\n",
    "# df10 = pl.scan_parquet(\"data/10.parquet\").with_columns(\n",
    "#     pl.col(\"tpep_pickup_datetime\").dt.cast_time_unit(\"ms\"),\n",
    "#     pl.col(\"tpep_dropoff_datetime\").dt.cast_time_unit(\"ms\"),\n",
    "# )\n",
    "# df11 = pl.scan_parquet(\"data/11.parquet\").with_columns(\n",
    "#     pl.col(\"tpep_pickup_datetime\").dt.cast_time_unit(\"ms\"),\n",
    "#     pl.col(\"tpep_dropoff_datetime\").dt.cast_time_unit(\"ms\"),\n",
    "# )\n",
    "# df12 = pl.scan_parquet(\"data/12.parquet\").with_columns(\n",
    "#     pl.col(\"tpep_pickup_datetime\").dt.cast_time_unit(\"ms\"),\n",
    "#     pl.col(\"tpep_dropoff_datetime\").dt.cast_time_unit(\"ms\"),\n",
    "# )\n",
    "#\n",
    "# df = pl.concat([df1to9, df10, df11, df12], how=\"vertical_relaxed\")\n",
    "\n",
    "out = df.collect()\n",
    "print(out.height)\n",
    "print(out.schema)\n"
   ],
   "id": "7bdff19d95dc26e6",
   "outputs": [
    {
     "name": "stdout",
     "output_type": "stream",
     "text": [
      "30021209\n",
      "Schema({'VendorID': Int32, 'tpep_pickup_datetime': Datetime(time_unit='ns', time_zone=None), 'tpep_dropoff_datetime': Datetime(time_unit='ns', time_zone=None), 'passenger_count': Int64, 'trip_distance': Float64, 'RatecodeID': Int64, 'store_and_fwd_flag': String, 'PULocationID': Int32, 'DOLocationID': Int32, 'payment_type': Int64, 'fare_amount': Float64, 'extra': Float64, 'mta_tax': Float64, 'tip_amount': Float64, 'tolls_amount': Float64, 'improvement_surcharge': Float64, 'total_amount': Float64, 'congestion_surcharge': Float64, 'Airport_fee': Float64})\n"
     ]
    }
   ],
   "execution_count": 3
  },
  {
   "metadata": {},
   "cell_type": "markdown",
   "source": "also load taxi zone lookup data",
   "id": "bf3eab64a51b7fa6"
  },
  {
   "metadata": {
    "collapsed": true,
    "ExecuteTime": {
     "end_time": "2025-10-28T20:24:35.162579Z",
     "start_time": "2025-10-28T20:24:35.155610Z"
    }
   },
   "cell_type": "code",
   "source": [
    "df_taxi_zones = pl.scan_csv(\"data/taxi_zone_lookup.csv\")\n",
    "print(df_taxi_zones.collect().height, df_taxi_zones.collect().schema, sep=\"\\n\")"
   ],
   "id": "2cb7fc66ed5e5ba0",
   "outputs": [
    {
     "name": "stdout",
     "output_type": "stream",
     "text": [
      "265\n",
      "Schema({'LocationID': Int64, 'Borough': String, 'Zone': String, 'service_zone': String})\n"
     ]
    }
   ],
   "execution_count": 4
  },
  {
   "metadata": {},
   "cell_type": "markdown",
   "source": "include only rides starting in 2024 and ending at most at 01.01.2025",
   "id": "959111c6f8692b5d"
  },
  {
   "metadata": {
    "ExecuteTime": {
     "end_time": "2025-10-28T20:24:36.769498Z",
     "start_time": "2025-10-28T20:24:35.263707Z"
    }
   },
   "cell_type": "code",
   "source": [
    "df = df.filter(\n",
    "    (pl.col(\"tpep_pickup_datetime\").dt.year() == 2024) &\n",
    "    (pl.col(\"tpep_dropoff_datetime\") < pl.datetime(2025, 1, 2))\n",
    ")\n",
    "df.collect().height"
   ],
   "id": "2beac19d3d10d899",
   "outputs": [
    {
     "data": {
      "text/plain": [
       "30021165"
      ]
     },
     "execution_count": 5,
     "metadata": {},
     "output_type": "execute_result"
    }
   ],
   "execution_count": 5
  },
  {
   "metadata": {},
   "cell_type": "markdown",
   "source": "optimize data types, particularly for integers and categorical strings",
   "id": "e2b0adcc27dd42f"
  },
  {
   "metadata": {
    "ExecuteTime": {
     "end_time": "2025-10-28T20:24:36.833835Z",
     "start_time": "2025-10-28T20:24:36.831093Z"
    }
   },
   "cell_type": "code",
   "source": [
    "df = df.cast({\n",
    "    \"passenger_count\": pl.UInt8,\n",
    "    \"RatecodeID\": pl.UInt8,\n",
    "    \"payment_type\": pl.UInt8,\n",
    "    \"PULocationID\": pl.UInt16,\n",
    "    \"DOLocationID\": pl.UInt16,\n",
    "    \"store_and_fwd_flag\": pl.Categorical\n",
    "})"
   ],
   "id": "ca807471a49ab036",
   "outputs": [],
   "execution_count": 6
  },
  {
   "metadata": {},
   "cell_type": "markdown",
   "source": "# 2. Data cleaning and filtering",
   "id": "f64ca56915106a79"
  },
  {
   "metadata": {},
   "cell_type": "markdown",
   "source": [
    "- fill NULL values in passengers_count with 1\n",
    "- remove rides with zero passengers\n",
    "- if a ride has over 6 passengers, replace the value with 6\n",
    "- remove rides lasting over 2 hours\n",
    "- in all money-related columns, replace values with absolute value to fix negative amounts\n",
    "- remove rides with over 1000 dollars in any money-related column\n",
    "- remove rows with values of RatecodeID or VendorID missing or outside those defined in the data dictionary"
   ],
   "id": "1ab2483d486184e9"
  },
  {
   "metadata": {
    "ExecuteTime": {
     "end_time": "2025-10-28T20:24:36.892Z",
     "start_time": "2025-10-28T20:24:36.886115Z"
    }
   },
   "cell_type": "code",
   "source": [
    "money_related_cols = [\n",
    "    \"fare_amount\",\n",
    "    \"extra\",\n",
    "    \"tip_amount\",\n",
    "    \"mta_tax\",\n",
    "    \"tolls_amount\",\n",
    "    \"improvement_surcharge\",\n",
    "    \"total_amount\",\n",
    "    \"congestion_surcharge\",\n",
    "    \"Airport_fee\",\n",
    "]"
   ],
   "id": "85aebdb3defa7481",
   "outputs": [],
   "execution_count": 7
  },
  {
   "metadata": {
    "ExecuteTime": {
     "end_time": "2025-10-28T20:24:40.006297Z",
     "start_time": "2025-10-28T20:24:36.943289Z"
    }
   },
   "cell_type": "code",
   "source": [
    "df = (df\n",
    "    .with_columns(\n",
    "        pl.col(\"passenger_count\").fill_null(1)\n",
    "    )\n",
    "    .filter(\n",
    "        pl.col(\"passenger_count\") > 0\n",
    "    )\n",
    "    .with_columns(\n",
    "        pl.col(\"passenger_count\").clip(upper_bound=6)\n",
    "    )\n",
    "    .filter(\n",
    "        (pl.col(\"tpep_pickup_datetime\") - pl.col(\"tpep_dropoff_datetime\")).dt.total_hours() < 2\n",
    "    )\n",
    "    .with_columns(\n",
    "        pl.col(col).abs() for col in money_related_cols\n",
    "    )\n",
    "    .filter(\n",
    "        pl.col(col) < 1000 for col in money_related_cols\n",
    "    )\n",
    "    .filter(\n",
    "        pl.col(\"RatecodeID\").is_in([1, 2, 3, 4, 5, 6, 99]),\n",
    "        pl.col(\"VendorID\").is_in([1, 2, 6, 7]),\n",
    "    )\n",
    ")\n",
    "\n",
    "df.collect().schema"
   ],
   "id": "ea7db09b87798a8d",
   "outputs": [
    {
     "data": {
      "text/plain": [
       "Schema([('VendorID', Int32),\n",
       "        ('tpep_pickup_datetime', Datetime(time_unit='ns', time_zone=None)),\n",
       "        ('tpep_dropoff_datetime', Datetime(time_unit='ns', time_zone=None)),\n",
       "        ('passenger_count', UInt8),\n",
       "        ('trip_distance', Float64),\n",
       "        ('RatecodeID', UInt8),\n",
       "        ('store_and_fwd_flag', Categorical(ordering='physical')),\n",
       "        ('PULocationID', UInt16),\n",
       "        ('DOLocationID', UInt16),\n",
       "        ('payment_type', UInt8),\n",
       "        ('fare_amount', Float64),\n",
       "        ('extra', Float64),\n",
       "        ('mta_tax', Float64),\n",
       "        ('tip_amount', Float64),\n",
       "        ('tolls_amount', Float64),\n",
       "        ('improvement_surcharge', Float64),\n",
       "        ('total_amount', Float64),\n",
       "        ('congestion_surcharge', Float64),\n",
       "        ('Airport_fee', Float64)])"
      ]
     },
     "execution_count": 8,
     "metadata": {},
     "output_type": "execute_result"
    }
   ],
   "execution_count": 8
  },
  {
   "metadata": {},
   "cell_type": "markdown",
   "source": "# 3. Data transformation",
   "id": "af1b18fb720d5406"
  },
  {
   "metadata": {},
   "cell_type": "markdown",
   "source": [
    "- combine payment type values for \"No charge\", \"Dispute\", \"Unknown\" and \"Voided trip\" into one type, so we have only credit card, cash, or other\n",
    "- replace PULocationID and DOLocationID with borough names by joining taxi zone lookup and removing unnecessary columns\n",
    "- add boolean variable is_airport_ride, true if there is non-zero airport fee\n",
    "- add boolean variable is_rush_hour, rush hours are defined as 6:30–9:30 and 15:30-20:00 during weekdays"
   ],
   "id": "c09678eb9f87adeb"
  },
  {
   "metadata": {
    "ExecuteTime": {
     "end_time": "2025-10-28T20:24:49.021731Z",
     "start_time": "2025-10-28T20:24:40.060794Z"
    }
   },
   "cell_type": "code",
   "source": [
    "df = (\n",
    "    df\n",
    "    .with_columns(\n",
    "        pl.when(pl.col(\"payment_type\").is_in([1, 2]))\n",
    "        .then(pl.col(\"payment_type\"))\n",
    "        .otherwise(3)\n",
    "    )\n",
    "    .join(df_taxi_zones, left_on=\"PULocationID\", right_on=\"LocationID\")\n",
    "    .rename({\"Borough\": \"PUBorough\",})\n",
    "    .join(df_taxi_zones, left_on=\"DOLocationID\", right_on=\"LocationID\")\n",
    "    .rename({\"Borough\": \"DOBorough\"})\n",
    "    .drop(\"PULocationID\", \"DOLocationID\", \"Zone\", \"service_zone\", \"Zone_right\", \"service_zone_right\")\n",
    "    .with_columns(\n",
    "        (pl.col(\"Airport_fee\") > 0).alias(\"is_airport_ride\")\n",
    "    )\n",
    "    .with_columns(\n",
    "        (\n",
    "            (\n",
    "                (pl.col(\"tpep_pickup_datetime\").dt.time().is_between(pl.time(6, 30), pl.time(9, 30))) |\n",
    "                (pl.col(\"tpep_pickup_datetime\").dt.time().is_between(pl.time(15, 30), pl.time(20, 0))) |\n",
    "                (pl.col(\"tpep_dropoff_datetime\").dt.time().is_between(pl.time(6, 30), pl.time(9, 30))) |\n",
    "                (pl.col(\"tpep_dropoff_datetime\").dt.time().is_between(pl.time(15, 30), pl.time(20, 0)))\n",
    "            ) &\n",
    "            (\n",
    "                (pl.col(\"tpep_pickup_datetime\").dt.weekday() < 6) &\n",
    "                (pl.col(\"tpep_dropoff_datetime\").dt.weekday() < 6)\n",
    "            )\n",
    "        )\n",
    "        .alias(\"is_rush_hour\")\n",
    "    )\n",
    ")\n",
    "\n",
    "df.collect().schema"
   ],
   "id": "aeb60532cadbae1b",
   "outputs": [
    {
     "data": {
      "text/plain": [
       "Schema([('VendorID', Int32),\n",
       "        ('tpep_pickup_datetime', Datetime(time_unit='ns', time_zone=None)),\n",
       "        ('tpep_dropoff_datetime', Datetime(time_unit='ns', time_zone=None)),\n",
       "        ('passenger_count', UInt8),\n",
       "        ('trip_distance', Float64),\n",
       "        ('RatecodeID', UInt8),\n",
       "        ('store_and_fwd_flag', Categorical(ordering='physical')),\n",
       "        ('payment_type', UInt8),\n",
       "        ('fare_amount', Float64),\n",
       "        ('extra', Float64),\n",
       "        ('mta_tax', Float64),\n",
       "        ('tip_amount', Float64),\n",
       "        ('tolls_amount', Float64),\n",
       "        ('improvement_surcharge', Float64),\n",
       "        ('total_amount', Float64),\n",
       "        ('congestion_surcharge', Float64),\n",
       "        ('Airport_fee', Float64),\n",
       "        ('PUBorough', String),\n",
       "        ('DOBorough', String),\n",
       "        ('is_airport_ride', Boolean),\n",
       "        ('is_rush_hour', Boolean)])"
      ]
     },
     "execution_count": 9,
     "metadata": {},
     "output_type": "execute_result"
    }
   ],
   "execution_count": 9
  },
  {
   "metadata": {},
   "cell_type": "markdown",
   "source": [
    "# 4. Feature extraction\n",
    "   - apply dummy encoding to features:\n",
    "     - payment type\n",
    "     - pickup borough\n",
    "     - dropoff borough\n",
    "   - add integer variables for counting daily events:\n",
    "     - total number of rides (target variable)\n",
    "     - number of airport rides\n",
    "     - number of rush hour rides\n",
    "   - add features aggregating daily rides information:\n",
    "     - average fare amount\n",
    "     - median distance\n",
    "     - sum of total amounts\n",
    "     - total amount paid by card, cash, and other\n",
    "     - total congestion surcharge\n",
    "     - total number of passengers\n",
    "   - add time features:\n",
    "     - `quarter`\n",
    "     - `month`\n",
    "     - `day_of_month`\n",
    "     - `day_of_week`\n",
    "     - `is_weekend` (boolean)\n",
    "   - add column `date`, indicating day with given features\n",
    "   - make sure to exclude other columns, unnecessary for machine learning, e.g. IDs, timestamps, unused financial information\n",
    "   - properly name all columns\n",
    "   - save results as `dataset.parquet` file"
   ],
   "id": "c17c9a115d95e7d7"
  },
  {
   "metadata": {
    "ExecuteTime": {
     "end_time": "2025-10-28T20:24:59.967708Z",
     "start_time": "2025-10-28T20:24:49.295912Z"
    }
   },
   "cell_type": "code",
   "source": [
    "df = (\n",
    "    df\n",
    "    .collect()\n",
    "    .to_dummies(\n",
    "        columns=['payment_type', 'PUBorough', 'DOBorough']\n",
    "    )\n",
    "    .lazy()\n",
    "    .with_columns(\n",
    "        pl.col(\"tpep_pickup_datetime\").dt.date().alias('date'),\n",
    "        pl.col('tpep_pickup_datetime').dt.ordinal_day().alias('ordinal_day'),\n",
    "        pl.col('tpep_pickup_datetime').dt.quarter().alias('quarter'),\n",
    "        pl.col('tpep_pickup_datetime').dt.month().alias('month'),\n",
    "        pl.col('tpep_pickup_datetime').dt.day().alias('day_of_month'),\n",
    "        pl.col('tpep_pickup_datetime').dt.weekday().alias('week_day'),\n",
    "        (pl.col(\"tpep_pickup_datetime\").dt.weekday() >= 6).alias('is_weekend'),\n",
    "    )\n",
    "    .group_by(\n",
    "        \"date\",\n",
    "        'ordinal_day',\n",
    "        'quarter',\n",
    "        'month',\n",
    "        'day_of_month',\n",
    "        'week_day',\n",
    "        'is_weekend',\n",
    "    )\n",
    "    .agg(\n",
    "        pl.len().alias('total_rides'),\n",
    "        pl.col('is_airport_ride').sum().alias('num_airport_rides'),\n",
    "        pl.col('is_rush_hour').sum().alias('num_rush_hour_rides'),\n",
    "\n",
    "        pl.col('fare_amount').mean().alias('avg_fare_amount'),\n",
    "        pl.col('trip_distance').median().alias('median_trip_distance'),\n",
    "        pl.col('total_amount').sum().alias('total_amount'),\n",
    "            pl.col('payment_type_1').sum().alias('total_paid_card'),\n",
    "            pl.col('payment_type_2').sum().alias('total_paid_cash'),\n",
    "            pl.col('payment_type_3').sum().alias('total_paid_other'),\n",
    "        pl.col('congestion_surcharge').sum().alias('total_congestion_surcharge'),\n",
    "        pl.col('passenger_count').sum().alias('total_passengers')\n",
    "    )\n",
    "    .sort('date')\n",
    ")\n",
    "\n",
    "df.collect()"
   ],
   "id": "a5db893a0c73d96b",
   "outputs": [
    {
     "data": {
      "text/plain": [
       "shape: (275, 18)\n",
       "┌────────────┬────────────┬─────────┬───────┬───┬────────────┬────────────┬────────────┬───────────┐\n",
       "│ date       ┆ ordinal_da ┆ quarter ┆ month ┆ … ┆ total_paid ┆ total_paid ┆ total_cong ┆ total_pas │\n",
       "│ ---        ┆ y          ┆ ---     ┆ ---   ┆   ┆ _cash      ┆ _other     ┆ estion_sur ┆ sengers   │\n",
       "│ date       ┆ ---        ┆ i8      ┆ i8    ┆   ┆ ---        ┆ ---        ┆ charge     ┆ ---       │\n",
       "│            ┆ i16        ┆         ┆       ┆   ┆ i64        ┆ i64        ┆ ---        ┆ i64       │\n",
       "│            ┆            ┆         ┆       ┆   ┆            ┆            ┆ f64        ┆           │\n",
       "╞════════════╪════════════╪═════════╪═══════╪═══╪════════════╪════════════╪════════════╪═══════════╡\n",
       "│ 2024-01-01 ┆ 1          ┆ 1       ┆ 1     ┆ … ┆ 14522      ┆ 2204       ┆ 156350.75  ┆ 109331    │\n",
       "│ 2024-01-02 ┆ 2          ┆ 1       ┆ 1     ┆ … ┆ 15421      ┆ 2022       ┆ 160772.5   ┆ 104208    │\n",
       "│ 2024-01-03 ┆ 3          ┆ 1       ┆ 1     ┆ … ┆ 16233      ┆ 2022       ┆ 178192.5   ┆ 111168    │\n",
       "│ 2024-01-04 ┆ 4          ┆ 1       ┆ 1     ┆ … ┆ 18023      ┆ 2345       ┆ 226800.0   ┆ 136001    │\n",
       "│ 2024-01-05 ┆ 5          ┆ 1       ┆ 1     ┆ … ┆ 17718      ┆ 2460       ┆ 227687.5   ┆ 137309    │\n",
       "│ …          ┆ …          ┆ …       ┆ …     ┆ … ┆ …          ┆ …          ┆ …          ┆ …         │\n",
       "│ 2024-09-27 ┆ 271        ┆ 3       ┆ 9     ┆ … ┆ 15148      ┆ 3579       ┆ 251942.5   ┆ 144922    │\n",
       "│ 2024-09-28 ┆ 272        ┆ 3       ┆ 9     ┆ … ┆ 16376      ┆ 3726       ┆ 280697.5   ┆ 168790    │\n",
       "│ 2024-09-29 ┆ 273        ┆ 3       ┆ 9     ┆ … ┆ 13451      ┆ 3341       ┆ 224135.0   ┆ 135908    │\n",
       "│ 2024-09-30 ┆ 274        ┆ 3       ┆ 9     ┆ … ┆ 14111      ┆ 3104       ┆ 217790.0   ┆ 122349    │\n",
       "│ 2024-10-01 ┆ 275        ┆ 4       ┆ 10    ┆ … ┆ 1          ┆ 0          ┆ 32.5       ┆ 15        │\n",
       "└────────────┴────────────┴─────────┴───────┴───┴────────────┴────────────┴────────────┴───────────┘"
      ],
      "text/html": [
       "<div><style>\n",
       ".dataframe > thead > tr,\n",
       ".dataframe > tbody > tr {\n",
       "  text-align: right;\n",
       "  white-space: pre-wrap;\n",
       "}\n",
       "</style>\n",
       "<small>shape: (275, 18)</small><table border=\"1\" class=\"dataframe\"><thead><tr><th>date</th><th>ordinal_day</th><th>quarter</th><th>month</th><th>day_of_month</th><th>week_day</th><th>is_weekend</th><th>total_rides</th><th>num_airport_rides</th><th>num_rush_hour_rides</th><th>avg_fare_amount</th><th>median_trip_distance</th><th>total_amount</th><th>total_paid_card</th><th>total_paid_cash</th><th>total_paid_other</th><th>total_congestion_surcharge</th><th>total_passengers</th></tr><tr><td>date</td><td>i16</td><td>i8</td><td>i8</td><td>i8</td><td>i8</td><td>bool</td><td>u32</td><td>u32</td><td>u32</td><td>f64</td><td>f64</td><td>f64</td><td>i64</td><td>i64</td><td>i64</td><td>f64</td><td>i64</td></tr></thead><tbody><tr><td>2024-01-01</td><td>1</td><td>1</td><td>1</td><td>1</td><td>1</td><td>false</td><td>69764</td><td>8365</td><td>20580</td><td>22.225501</td><td>2.09</td><td>2.1884e6</td><td>53038</td><td>14522</td><td>2204</td><td>156350.75</td><td>109331</td></tr><tr><td>2024-01-02</td><td>2</td><td>1</td><td>1</td><td>2</td><td>2</td><td>false</td><td>72667</td><td>9842</td><td>32802</td><td>21.533146</td><td>1.82</td><td>2.2550e6</td><td>55224</td><td>15421</td><td>2022</td><td>160772.5</td><td>104208</td></tr><tr><td>2024-01-03</td><td>3</td><td>1</td><td>1</td><td>3</td><td>3</td><td>false</td><td>79670</td><td>9174</td><td>35300</td><td>20.208847</td><td>1.75</td><td>2.3384e6</td><td>61415</td><td>16233</td><td>2022</td><td>178192.5</td><td>111168</td></tr><tr><td>2024-01-04</td><td>4</td><td>1</td><td>1</td><td>4</td><td>4</td><td>false</td><td>99177</td><td>8287</td><td>45798</td><td>18.8873</td><td>1.75</td><td>2.7652e6</td><td>78809</td><td>18023</td><td>2345</td><td>226800.0</td><td>136001</td></tr><tr><td>2024-01-05</td><td>5</td><td>1</td><td>1</td><td>5</td><td>5</td><td>false</td><td>98940</td><td>7471</td><td>42535</td><td>18.262269</td><td>1.7</td><td>2.6803e6</td><td>78762</td><td>17718</td><td>2460</td><td>227687.5</td><td>137309</td></tr><tr><td>&hellip;</td><td>&hellip;</td><td>&hellip;</td><td>&hellip;</td><td>&hellip;</td><td>&hellip;</td><td>&hellip;</td><td>&hellip;</td><td>&hellip;</td><td>&hellip;</td><td>&hellip;</td><td>&hellip;</td><td>&hellip;</td><td>&hellip;</td><td>&hellip;</td><td>&hellip;</td><td>&hellip;</td><td>&hellip;</td></tr><tr><td>2024-09-27</td><td>271</td><td>3</td><td>9</td><td>27</td><td>5</td><td>false</td><td>109897</td><td>9759</td><td>45772</td><td>20.425495</td><td>1.7</td><td>3.2913e6</td><td>91170</td><td>15148</td><td>3579</td><td>251942.5</td><td>144922</td></tr><tr><td>2024-09-28</td><td>272</td><td>3</td><td>9</td><td>28</td><td>6</td><td>true</td><td>119678</td><td>7485</td><td>0</td><td>18.864051</td><td>1.64</td><td>3.2372e6</td><td>99576</td><td>16376</td><td>3726</td><td>280697.5</td><td>168790</td></tr><tr><td>2024-09-29</td><td>273</td><td>3</td><td>9</td><td>29</td><td>7</td><td>true</td><td>98441</td><td>11497</td><td>0</td><td>20.712102</td><td>1.8</td><td>2.9253e6</td><td>81649</td><td>13451</td><td>3341</td><td>224135.0</td><td>135908</td></tr><tr><td>2024-09-30</td><td>274</td><td>3</td><td>9</td><td>30</td><td>1</td><td>false</td><td>96929</td><td>12068</td><td>44260</td><td>21.266723</td><td>1.76</td><td>3.0081e6</td><td>79714</td><td>14111</td><td>3104</td><td>217790.0</td><td>122349</td></tr><tr><td>2024-10-01</td><td>275</td><td>4</td><td>10</td><td>1</td><td>2</td><td>false</td><td>15</td><td>2</td><td>12</td><td>24.533333</td><td>2.39</td><td>542.92</td><td>14</td><td>1</td><td>0</td><td>32.5</td><td>15</td></tr></tbody></table></div>"
      ]
     },
     "execution_count": 10,
     "metadata": {},
     "output_type": "execute_result"
    }
   ],
   "execution_count": 10
  },
  {
   "metadata": {
    "ExecuteTime": {
     "end_time": "2025-10-28T20:25:02.526474Z",
     "start_time": "2025-10-28T20:25:00.078931Z"
    }
   },
   "cell_type": "code",
   "source": "df.collect().write_parquet(\"data/dataset.parquet\")",
   "id": "783ca512d562a71f",
   "outputs": [],
   "execution_count": 11
  },
  {
   "metadata": {},
   "cell_type": "markdown",
   "source": [
    "# 5. Data analysis\n",
    "   - print shape\n",
    "   - show top rows\n",
    "   - describe statistics\n",
    "   - print schema\n",
    "   - plot target variable (daily number of rides):\n",
    "     - histogram of values\n",
    "     - line plot, date vs number of rides (remember to sort by date)"
   ],
   "id": "8914d916956ee2d9"
  },
  {
   "metadata": {
    "ExecuteTime": {
     "end_time": "2025-10-28T20:25:05.481587Z",
     "start_time": "2025-10-28T20:25:02.711887Z"
    }
   },
   "cell_type": "code",
   "source": "df_collected = df.collect()",
   "id": "d7804c292a37ddfe",
   "outputs": [],
   "execution_count": 12
  },
  {
   "metadata": {
    "ExecuteTime": {
     "end_time": "2025-10-28T20:25:05.718747Z",
     "start_time": "2025-10-28T20:25:05.711346Z"
    }
   },
   "cell_type": "code",
   "source": "df_collected.shape",
   "id": "de5b8b0646bce12d",
   "outputs": [
    {
     "data": {
      "text/plain": [
       "(275, 18)"
      ]
     },
     "execution_count": 13,
     "metadata": {},
     "output_type": "execute_result"
    }
   ],
   "execution_count": 13
  },
  {
   "metadata": {
    "ExecuteTime": {
     "end_time": "2025-10-28T20:25:06.031799Z",
     "start_time": "2025-10-28T20:25:06.023952Z"
    }
   },
   "cell_type": "code",
   "source": "df_collected.limit(5)",
   "id": "3a188be76774b3bc",
   "outputs": [
    {
     "data": {
      "text/plain": [
       "shape: (5, 18)\n",
       "┌────────────┬────────────┬─────────┬───────┬───┬────────────┬────────────┬────────────┬───────────┐\n",
       "│ date       ┆ ordinal_da ┆ quarter ┆ month ┆ … ┆ total_paid ┆ total_paid ┆ total_cong ┆ total_pas │\n",
       "│ ---        ┆ y          ┆ ---     ┆ ---   ┆   ┆ _cash      ┆ _other     ┆ estion_sur ┆ sengers   │\n",
       "│ date       ┆ ---        ┆ i8      ┆ i8    ┆   ┆ ---        ┆ ---        ┆ charge     ┆ ---       │\n",
       "│            ┆ i16        ┆         ┆       ┆   ┆ i64        ┆ i64        ┆ ---        ┆ i64       │\n",
       "│            ┆            ┆         ┆       ┆   ┆            ┆            ┆ f64        ┆           │\n",
       "╞════════════╪════════════╪═════════╪═══════╪═══╪════════════╪════════════╪════════════╪═══════════╡\n",
       "│ 2024-01-01 ┆ 1          ┆ 1       ┆ 1     ┆ … ┆ 14522      ┆ 2204       ┆ 156350.75  ┆ 109331    │\n",
       "│ 2024-01-02 ┆ 2          ┆ 1       ┆ 1     ┆ … ┆ 15421      ┆ 2022       ┆ 160772.5   ┆ 104208    │\n",
       "│ 2024-01-03 ┆ 3          ┆ 1       ┆ 1     ┆ … ┆ 16233      ┆ 2022       ┆ 178192.5   ┆ 111168    │\n",
       "│ 2024-01-04 ┆ 4          ┆ 1       ┆ 1     ┆ … ┆ 18023      ┆ 2345       ┆ 226800.0   ┆ 136001    │\n",
       "│ 2024-01-05 ┆ 5          ┆ 1       ┆ 1     ┆ … ┆ 17718      ┆ 2460       ┆ 227687.5   ┆ 137309    │\n",
       "└────────────┴────────────┴─────────┴───────┴───┴────────────┴────────────┴────────────┴───────────┘"
      ],
      "text/html": [
       "<div><style>\n",
       ".dataframe > thead > tr,\n",
       ".dataframe > tbody > tr {\n",
       "  text-align: right;\n",
       "  white-space: pre-wrap;\n",
       "}\n",
       "</style>\n",
       "<small>shape: (5, 18)</small><table border=\"1\" class=\"dataframe\"><thead><tr><th>date</th><th>ordinal_day</th><th>quarter</th><th>month</th><th>day_of_month</th><th>week_day</th><th>is_weekend</th><th>total_rides</th><th>num_airport_rides</th><th>num_rush_hour_rides</th><th>avg_fare_amount</th><th>median_trip_distance</th><th>total_amount</th><th>total_paid_card</th><th>total_paid_cash</th><th>total_paid_other</th><th>total_congestion_surcharge</th><th>total_passengers</th></tr><tr><td>date</td><td>i16</td><td>i8</td><td>i8</td><td>i8</td><td>i8</td><td>bool</td><td>u32</td><td>u32</td><td>u32</td><td>f64</td><td>f64</td><td>f64</td><td>i64</td><td>i64</td><td>i64</td><td>f64</td><td>i64</td></tr></thead><tbody><tr><td>2024-01-01</td><td>1</td><td>1</td><td>1</td><td>1</td><td>1</td><td>false</td><td>69764</td><td>8365</td><td>20580</td><td>22.225501</td><td>2.09</td><td>2.1884e6</td><td>53038</td><td>14522</td><td>2204</td><td>156350.75</td><td>109331</td></tr><tr><td>2024-01-02</td><td>2</td><td>1</td><td>1</td><td>2</td><td>2</td><td>false</td><td>72667</td><td>9842</td><td>32802</td><td>21.533146</td><td>1.82</td><td>2.2550e6</td><td>55224</td><td>15421</td><td>2022</td><td>160772.5</td><td>104208</td></tr><tr><td>2024-01-03</td><td>3</td><td>1</td><td>1</td><td>3</td><td>3</td><td>false</td><td>79670</td><td>9174</td><td>35300</td><td>20.208847</td><td>1.75</td><td>2.3384e6</td><td>61415</td><td>16233</td><td>2022</td><td>178192.5</td><td>111168</td></tr><tr><td>2024-01-04</td><td>4</td><td>1</td><td>1</td><td>4</td><td>4</td><td>false</td><td>99177</td><td>8287</td><td>45798</td><td>18.8873</td><td>1.75</td><td>2.7652e6</td><td>78809</td><td>18023</td><td>2345</td><td>226800.0</td><td>136001</td></tr><tr><td>2024-01-05</td><td>5</td><td>1</td><td>1</td><td>5</td><td>5</td><td>false</td><td>98940</td><td>7471</td><td>42535</td><td>18.262269</td><td>1.7</td><td>2.6803e6</td><td>78762</td><td>17718</td><td>2460</td><td>227687.5</td><td>137309</td></tr></tbody></table></div>"
      ]
     },
     "execution_count": 14,
     "metadata": {},
     "output_type": "execute_result"
    }
   ],
   "execution_count": 14
  },
  {
   "metadata": {
    "ExecuteTime": {
     "end_time": "2025-10-28T20:25:07.064574Z",
     "start_time": "2025-10-28T20:25:07.048492Z"
    }
   },
   "cell_type": "code",
   "source": "df_collected.describe()",
   "id": "8d5dba61a21e49ce",
   "outputs": [
    {
     "data": {
      "text/plain": [
       "shape: (9, 19)\n",
       "┌───────────┬───────────┬───────────┬──────────┬───┬───────────┬───────────┬───────────┬───────────┐\n",
       "│ statistic ┆ date      ┆ ordinal_d ┆ quarter  ┆ … ┆ total_pai ┆ total_pai ┆ total_con ┆ total_pas │\n",
       "│ ---       ┆ ---       ┆ ay        ┆ ---      ┆   ┆ d_cash    ┆ d_other   ┆ gestion_s ┆ sengers   │\n",
       "│ str       ┆ str       ┆ ---       ┆ f64      ┆   ┆ ---       ┆ ---       ┆ urcharge  ┆ ---       │\n",
       "│           ┆           ┆ f64       ┆          ┆   ┆ f64       ┆ f64       ┆ ---       ┆ f64       │\n",
       "│           ┆           ┆           ┆          ┆   ┆           ┆           ┆ f64       ┆           │\n",
       "╞═══════════╪═══════════╪═══════════╪══════════╪═══╪═══════════╪═══════════╪═══════════╪═══════════╡\n",
       "│ count     ┆ 275       ┆ 275.0     ┆ 275.0    ┆ … ┆ 275.0     ┆ 275.0     ┆ 275.0     ┆ 275.0     │\n",
       "│ null_coun ┆ 0         ┆ 0.0       ┆ 0.0      ┆ … ┆ 0.0       ┆ 0.0       ┆ 0.0       ┆ 0.0       │\n",
       "│ t         ┆           ┆           ┆          ┆   ┆           ┆           ┆           ┆           │\n",
       "│ mean      ┆ 2024-05-1 ┆ 138.0     ┆ 2.010909 ┆ … ┆ 14797.701 ┆ 2713.0654 ┆ 222972.41 ┆ 131123.29 │\n",
       "│           ┆ 7         ┆           ┆          ┆   ┆ 818       ┆ 55        ┆ 6436      ┆ 0909      │\n",
       "│           ┆ 00:00:00  ┆           ┆          ┆   ┆           ┆           ┆           ┆           │\n",
       "│ std       ┆ null      ┆ 79.529869 ┆ 0.826052 ┆ … ┆ 1631.7473 ┆ 449.43725 ┆ 35592.811 ┆ 17947.340 │\n",
       "│           ┆           ┆           ┆          ┆   ┆ 37        ┆ 9         ┆ 69        ┆ 091       │\n",
       "│ min       ┆ 2024-01-0 ┆ 1.0       ┆ 1.0      ┆ … ┆ 1.0       ┆ 0.0       ┆ 32.5      ┆ 15.0      │\n",
       "│           ┆ 1         ┆           ┆          ┆   ┆           ┆           ┆           ┆           │\n",
       "│ 25%       ┆ 2024-03-1 ┆ 70.0      ┆ 1.0      ┆ … ┆ 14049.0   ┆ 2426.0    ┆ 200520.0  ┆ 121088.0  │\n",
       "│           ┆ 0         ┆           ┆          ┆   ┆           ┆           ┆           ┆           │\n",
       "│ 50%       ┆ 2024-05-1 ┆ 138.0     ┆ 2.0      ┆ … ┆ 14933.0   ┆ 2759.0    ┆ 227520.0  ┆ 131958.0  │\n",
       "│           ┆ 7         ┆           ┆          ┆   ┆           ┆           ┆           ┆           │\n",
       "│ 75%       ┆ 2024-07-2 ┆ 207.0     ┆ 3.0      ┆ … ┆ 15778.0   ┆ 3012.0    ┆ 250097.5  ┆ 144225.0  │\n",
       "│           ┆ 5         ┆           ┆          ┆   ┆           ┆           ┆           ┆           │\n",
       "│ max       ┆ 2024-10-0 ┆ 275.0     ┆ 4.0      ┆ … ┆ 18023.0   ┆ 3829.0    ┆ 286325.0  ┆ 169472.0  │\n",
       "│           ┆ 1         ┆           ┆          ┆   ┆           ┆           ┆           ┆           │\n",
       "└───────────┴───────────┴───────────┴──────────┴───┴───────────┴───────────┴───────────┴───────────┘"
      ],
      "text/html": [
       "<div><style>\n",
       ".dataframe > thead > tr,\n",
       ".dataframe > tbody > tr {\n",
       "  text-align: right;\n",
       "  white-space: pre-wrap;\n",
       "}\n",
       "</style>\n",
       "<small>shape: (9, 19)</small><table border=\"1\" class=\"dataframe\"><thead><tr><th>statistic</th><th>date</th><th>ordinal_day</th><th>quarter</th><th>month</th><th>day_of_month</th><th>week_day</th><th>is_weekend</th><th>total_rides</th><th>num_airport_rides</th><th>num_rush_hour_rides</th><th>avg_fare_amount</th><th>median_trip_distance</th><th>total_amount</th><th>total_paid_card</th><th>total_paid_cash</th><th>total_paid_other</th><th>total_congestion_surcharge</th><th>total_passengers</th></tr><tr><td>str</td><td>str</td><td>f64</td><td>f64</td><td>f64</td><td>f64</td><td>f64</td><td>f64</td><td>f64</td><td>f64</td><td>f64</td><td>f64</td><td>f64</td><td>f64</td><td>f64</td><td>f64</td><td>f64</td><td>f64</td><td>f64</td></tr></thead><tbody><tr><td>&quot;count&quot;</td><td>&quot;275&quot;</td><td>275.0</td><td>275.0</td><td>275.0</td><td>275.0</td><td>275.0</td><td>275.0</td><td>275.0</td><td>275.0</td><td>275.0</td><td>275.0</td><td>275.0</td><td>275.0</td><td>275.0</td><td>275.0</td><td>275.0</td><td>275.0</td><td>275.0</td></tr><tr><td>&quot;null_count&quot;</td><td>&quot;0&quot;</td><td>0.0</td><td>0.0</td><td>0.0</td><td>0.0</td><td>0.0</td><td>0.0</td><td>0.0</td><td>0.0</td><td>0.0</td><td>0.0</td><td>0.0</td><td>0.0</td><td>0.0</td><td>0.0</td><td>0.0</td><td>0.0</td><td>0.0</td></tr><tr><td>&quot;mean&quot;</td><td>&quot;2024-05-17 00:00:00&quot;</td><td>138.0</td><td>2.010909</td><td>5.025455</td><td>15.676364</td><td>3.981818</td><td>0.283636</td><td>97152.472727</td><td>8891.374545</td><td>30922.105455</td><td>19.898644</td><td>1.733018</td><td>2.8149e6</td><td>79641.705455</td><td>14797.701818</td><td>2713.065455</td><td>222972.416436</td><td>131123.290909</td></tr><tr><td>&quot;std&quot;</td><td>null</td><td>79.529869</td><td>0.826052</td><td>2.5976</td><td>8.841714</td><td>2.008112</td><td>null</td><td>14512.529464</td><td>1613.589355</td><td>20324.286969</td><td>1.275212</td><td>0.108345</td><td>422103.887978</td><td>13012.614828</td><td>1631.747337</td><td>449.437259</td><td>35592.81169</td><td>17947.340091</td></tr><tr><td>&quot;min&quot;</td><td>&quot;2024-01-01&quot;</td><td>1.0</td><td>1.0</td><td>1.0</td><td>1.0</td><td>1.0</td><td>0.0</td><td>15.0</td><td>2.0</td><td>0.0</td><td>16.69548</td><td>1.51</td><td>542.92</td><td>14.0</td><td>1.0</td><td>0.0</td><td>32.5</td><td>15.0</td></tr><tr><td>&quot;25%&quot;</td><td>&quot;2024-03-10&quot;</td><td>70.0</td><td>1.0</td><td>3.0</td><td>8.0</td><td>2.0</td><td>null</td><td>87819.0</td><td>7963.0</td><td>0.0</td><td>19.042841</td><td>1.67</td><td>2.5637e6</td><td>71524.0</td><td>14049.0</td><td>2426.0</td><td>200520.0</td><td>121088.0</td></tr><tr><td>&quot;50%&quot;</td><td>&quot;2024-05-17&quot;</td><td>138.0</td><td>2.0</td><td>5.0</td><td>16.0</td><td>4.0</td><td>null</td><td>98690.0</td><td>8898.0</td><td>40853.0</td><td>19.849665</td><td>1.7</td><td>2.8421e6</td><td>81339.0</td><td>14933.0</td><td>2759.0</td><td>227520.0</td><td>131958.0</td></tr><tr><td>&quot;75%&quot;</td><td>&quot;2024-07-25&quot;</td><td>207.0</td><td>3.0</td><td>7.0</td><td>23.0</td><td>6.0</td><td>null</td><td>108324.0</td><td>10003.0</td><td>45806.0</td><td>20.651447</td><td>1.79</td><td>3.1027e6</td><td>89564.0</td><td>15778.0</td><td>3012.0</td><td>250097.5</td><td>144225.0</td></tr><tr><td>&quot;max&quot;</td><td>&quot;2024-10-01&quot;</td><td>275.0</td><td>4.0</td><td>10.0</td><td>31.0</td><td>7.0</td><td>1.0</td><td>123754.0</td><td>12886.0</td><td>54186.0</td><td>24.533333</td><td>2.39</td><td>3.7472e6</td><td>103907.0</td><td>18023.0</td><td>3829.0</td><td>286325.0</td><td>169472.0</td></tr></tbody></table></div>"
      ]
     },
     "execution_count": 15,
     "metadata": {},
     "output_type": "execute_result"
    }
   ],
   "execution_count": 15
  },
  {
   "metadata": {
    "ExecuteTime": {
     "end_time": "2025-10-28T20:25:08.227904Z",
     "start_time": "2025-10-28T20:25:08.214547Z"
    }
   },
   "cell_type": "code",
   "source": "df_collected.schema",
   "id": "8818a720a4443a34",
   "outputs": [
    {
     "data": {
      "text/plain": [
       "Schema([('date', Date),\n",
       "        ('ordinal_day', Int16),\n",
       "        ('quarter', Int8),\n",
       "        ('month', Int8),\n",
       "        ('day_of_month', Int8),\n",
       "        ('week_day', Int8),\n",
       "        ('is_weekend', Boolean),\n",
       "        ('total_rides', UInt32),\n",
       "        ('num_airport_rides', UInt32),\n",
       "        ('num_rush_hour_rides', UInt32),\n",
       "        ('avg_fare_amount', Float64),\n",
       "        ('median_trip_distance', Float64),\n",
       "        ('total_amount', Float64),\n",
       "        ('total_paid_card', Int64),\n",
       "        ('total_paid_cash', Int64),\n",
       "        ('total_paid_other', Int64),\n",
       "        ('total_congestion_surcharge', Float64),\n",
       "        ('total_passengers', Int64)])"
      ]
     },
     "execution_count": 16,
     "metadata": {},
     "output_type": "execute_result"
    }
   ],
   "execution_count": 16
  },
  {
   "metadata": {
    "ExecuteTime": {
     "end_time": "2025-10-28T20:25:10.035832Z",
     "start_time": "2025-10-28T20:25:08.521644Z"
    }
   },
   "cell_type": "code",
   "source": [
    "df_collected.select('total_rides').to_pandas().plot.hist(\n",
    "    xlabel=\"Total Rides\",\n",
    "    title=\"Daily Taxi Rides Histogram of 2024\",\n",
    ")"
   ],
   "id": "4a285c3fc8317dff",
   "outputs": [
    {
     "data": {
      "text/plain": [
       "<Axes: title={'center': 'Daily Taxi Rides Histogram of 2024'}, xlabel='Total Rides', ylabel='Frequency'>"
      ]
     },
     "execution_count": 17,
     "metadata": {},
     "output_type": "execute_result"
    },
    {
     "data": {
      "text/plain": [
       "<Figure size 640x480 with 1 Axes>"
      ],
      "image/png": "[encoded data removed]"
     },
     "metadata": {},
     "output_type": "display_data",
     "jetTransient": {
      "display_id": null
     }
    }
   ],
   "execution_count": 17
  },
  {
   "metadata": {
    "ExecuteTime": {
     "end_time": "2025-10-28T20:25:10.776476Z",
     "start_time": "2025-10-28T20:25:10.217768Z"
    }
   },
   "cell_type": "code",
   "source": [
    "df_collected.select(\"date\", \"total_rides\").sort(\"date\").to_pandas().plot.line(\n",
    "    x='date',\n",
    "    y='total_rides',\n",
    "    xlabel=\"Date\",\n",
    "    ylabel=\"Total Rides\",\n",
    "    title=\"Taxi Rides per Day in 2024\",\n",
    ")"
   ],
   "id": "4e3a7c1b370ee6bd",
   "outputs": [
    {
     "data": {
      "text/plain": [
       "<Axes: title={'center': 'Taxi Rides per Day in 2024'}, xlabel='Date', ylabel='Total Rides'>"
      ]
     },
     "execution_count": 18,
     "metadata": {},
     "output_type": "execute_result"
    },
    {
     "data": {
      "text/plain": [
       "<Figure size 640x480 with 1 Axes>"
      ],
      "image/png": "[encoded data removed]"
     },
     "metadata": {},
     "output_type": "display_data",
     "jetTransient": {
      "display_id": null
     }
    }
   ],
   "execution_count": 18
  }
 ],
 "metadata": {
  "kernelspec": {
   "display_name": "Python 3",
   "language": "python",
   "name": "python3"
  },
  "language_info": {
   "codemirror_mode": {
    "name": "ipython",
    "version": 2
   },
   "file_extension": ".py",
   "mimetype": "text/x-python",
   "name": "python",
   "nbconvert_exporter": "python",
   "pygments_lexer": "ipython2",
   "version": "2.7.6"
  }
 },
 "nbformat": 4,
 "nbformat_minor": 5
}
